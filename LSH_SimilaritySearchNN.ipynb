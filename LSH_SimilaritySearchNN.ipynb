{
  "nbformat": 4,
  "nbformat_minor": 0,
  "metadata": {
    "colab": {
      "name": "LSH-SimilaritySearchNN.ipynb",
      "provenance": [],
      "collapsed_sections": []
    },
    "kernelspec": {
      "name": "python3",
      "display_name": "Python 3"
    }
  },
  "cells": [
    {
      "cell_type": "markdown",
      "metadata": {
        "id": "A-0MDRG1hqyY",
        "colab_type": "text"
      },
      "source": [
        "This is the part of our analysis where we work on Locality sensitive Hashing to do similarity search on the various block level data that we have taken from ACS data on BigQuery."
      ]
    },
    {
      "cell_type": "markdown",
      "metadata": {
        "id": "ypieWgw0lz5e",
        "colab_type": "text"
      },
      "source": [
        "##Setup"
      ]
    },
    {
      "cell_type": "code",
      "metadata": {
        "id": "TQIHJrAKGMKU",
        "colab_type": "code",
        "outputId": "48ab5513-2497-4195-fd89-819e664c750f",
        "colab": {
          "base_uri": "https://localhost:8080/",
          "height": 224
        }
      },
      "source": [
        "!wget https://downloads.apache.org/spark/spark-2.4.5/spark-2.4.5-bin-hadoop2.7.tgz"
      ],
      "execution_count": 0,
      "outputs": [
        {
          "output_type": "stream",
          "text": [
            "--2020-05-16 20:28:51--  https://downloads.apache.org/spark/spark-2.4.5/spark-2.4.5-bin-hadoop2.7.tgz\n",
            "Resolving downloads.apache.org (downloads.apache.org)... 88.99.95.219, 2a01:4f8:10a:201a::2\n",
            "Connecting to downloads.apache.org (downloads.apache.org)|88.99.95.219|:443... connected.\n",
            "HTTP request sent, awaiting response... 200 OK\n",
            "Length: 232530699 (222M) [application/x-gzip]\n",
            "Saving to: ‘spark-2.4.5-bin-hadoop2.7.tgz’\n",
            "\n",
            "spark-2.4.5-bin-had 100%[===================>] 221.76M  26.3MB/s    in 9.1s    \n",
            "\n",
            "2020-05-16 20:29:00 (24.3 MB/s) - ‘spark-2.4.5-bin-hadoop2.7.tgz’ saved [232530699/232530699]\n",
            "\n"
          ],
          "name": "stdout"
        }
      ]
    },
    {
      "cell_type": "code",
      "metadata": {
        "id": "yofyPHNYIit3",
        "colab_type": "code",
        "colab": {}
      },
      "source": [
        "!tar xf spark-2.4.5-bin-hadoop2.7.tgz"
      ],
      "execution_count": 0,
      "outputs": []
    },
    {
      "cell_type": "code",
      "metadata": {
        "id": "rlHkF8yUJY80",
        "colab_type": "code",
        "colab": {}
      },
      "source": [
        "!pip install -q findspark"
      ],
      "execution_count": 0,
      "outputs": []
    },
    {
      "cell_type": "code",
      "metadata": {
        "id": "okhOXhBFKHbd",
        "colab_type": "code",
        "colab": {}
      },
      "source": [
        "import os\n",
        "os.environ[\"JAVA_HOME\"] = \"/usr/lib/jvm/java-8-openjdk-amd64\"\n",
        "os.environ[\"SPARK_HOME\"] = \"/content/spark-2.4.5-bin-hadoop2.7\""
      ],
      "execution_count": 0,
      "outputs": []
    },
    {
      "cell_type": "code",
      "metadata": {
        "id": "RySCwbu4LeNr",
        "colab_type": "code",
        "colab": {}
      },
      "source": [
        "import findspark\n",
        "findspark.init()\n",
        "from pyspark.sql import SparkSession\n",
        "spark = SparkSession.builder.master(\"local[*]\").getOrCreate()"
      ],
      "execution_count": 0,
      "outputs": []
    },
    {
      "cell_type": "code",
      "metadata": {
        "id": "wIa4chxwLg0q",
        "colab_type": "code",
        "colab": {}
      },
      "source": [
        "from pyspark import SparkContext\n",
        "sc = SparkContext.getOrCreate();"
      ],
      "execution_count": 0,
      "outputs": []
    },
    {
      "cell_type": "markdown",
      "metadata": {
        "id": "ZvGTTCi-l8iP",
        "colab_type": "text"
      },
      "source": [
        "##Pre-Processing"
      ]
    },
    {
      "cell_type": "code",
      "metadata": {
        "id": "qgP0DtnOMByd",
        "colab_type": "code",
        "colab": {}
      },
      "source": [
        "import csv\n",
        "import pandas as pd\n",
        "import numpy as np"
      ],
      "execution_count": 0,
      "outputs": []
    },
    {
      "cell_type": "code",
      "metadata": {
        "id": "i-wQUyp-MBlg",
        "colab_type": "code",
        "colab": {}
      },
      "source": [
        "df_all = pd.read_csv('/content/drive/My Drive/blockgroup2010.csv')"
      ],
      "execution_count": 0,
      "outputs": []
    },
    {
      "cell_type": "code",
      "metadata": {
        "id": "y4JULoNtSvwo",
        "colab_type": "code",
        "colab": {}
      },
      "source": [
        "columns_to_select_2 = ['geo_id','nonfamily_households','family_households','median_year_structure_built','rent_burden_not_computed','rent_over_50_percent','rent_40_to_50_percent','rent_35_to_40_percent','rent_30_to_35_percent','rent_25_to_30_percent','rent_20_to_25_percent','rent_15_to_20_percent','rent_10_to_15_percent','rent_under_10_percent','total_pop','male_pop','female_pop','median_age','white_pop','black_pop','asian_pop','hispanic_pop','amerindian_pop','other_race_pop','two_or_more_races_pop','not_hispanic_pop','commuters_by_public_transportation','households','median_income','income_per_capita','housing_units','vacant_housing_units','vacant_housing_units_for_rent','vacant_housing_units_for_sale','median_rent','percent_income_spent_on_rent','owner_occupied_housing_units','million_dollar_housing_units','mortgaged_housing_units','families_with_young_children','two_parent_families_with_young_children','two_parents_in_labor_force_families_with_young_children','two_parents_father_in_labor_force_families_with_young_children','two_parents_mother_in_labor_force_families_with_young_children','two_parents_not_in_labor_force_families_with_young_children','one_parent_families_with_young_children','father_one_parent_families_with_young_children','father_in_labor_force_one_parent_families_with_young_children','commute_10_14_mins','commute_15_19_mins','commute_20_24_mins','commute_25_29_mins','commute_30_34_mins','commute_45_59_mins','aggregate_travel_time_to_work','income_less_10000','income_10000_14999','income_15000_19999','income_20000_24999','income_25000_29999','income_30000_34999','income_35000_39999','income_40000_44999','income_45000_49999','income_50000_59999','income_60000_74999','income_75000_99999','income_100000_124999','income_125000_149999','income_150000_199999','income_200000_or_more','renter_occupied_housing_units_paying_cash_median_gross_rent','owner_occupied_housing_units_lower_value_quartile','owner_occupied_housing_units_median_value','owner_occupied_housing_units_upper_value_quartile','married_households','occupied_housing_units','housing_units_renter_occupied','dwellings_1_units_detached','dwellings_1_units_attached','dwellings_2_units','dwellings_3_to_4_units','dwellings_5_to_9_units','dwellings_10_to_19_units','dwellings_20_to_49_units','dwellings_50_or_more_units','mobile_homes','housing_built_2005_or_later','housing_built_2000_to_2004','housing_built_1939_or_earlier','male_under_5','male_5_to_9','male_10_to_14','male_15_to_17','male_18_to_19','male_20','male_21','male_22_to_24','male_25_to_29','male_30_to_34','male_35_to_39','male_40_to_44','male_45_to_49','male_50_to_54','male_55_to_59','male_60_61','male_62_64','male_65_to_66','male_67_to_69','male_70_to_74','male_75_to_79','male_80_to_84','male_85_and_over','female_under_5','female_5_to_9','female_10_to_14','female_15_to_17','female_18_to_19','female_20','female_21','female_22_to_24','female_25_to_29','female_30_to_34','female_35_to_39','female_40_to_44','female_45_to_49','female_50_to_54','female_55_to_59','female_60_to_61','female_62_to_64','female_65_to_66','female_67_to_69','female_70_to_74','female_75_to_79','female_80_to_84','female_85_and_over','white_including_hispanic','black_including_hispanic','amerindian_including_hispanic','asian_including_hispanic','commute_5_9_mins','commute_35_39_mins','commute_40_44_mins','commute_60_89_mins','commute_90_more_mins','households_retirement_income']"
      ],
      "execution_count": 0,
      "outputs": []
    },
    {
      "cell_type": "markdown",
      "metadata": {
        "id": "Sp-g7ZZBmdpJ",
        "colab_type": "text"
      },
      "source": [
        "Here, we had chosen all columns which by any strech represented the demographic and income related features. In total there were 146 columns.\n",
        "\n",
        "\n",
        "\n",
        "\n"
      ]
    },
    {
      "cell_type": "code",
      "metadata": {
        "id": "ad1tiuLaSvbs",
        "colab_type": "code",
        "colab": {}
      },
      "source": [
        "df_selected = df_all[columns_to_select_2]\n",
        "df_selected = df_selected.dropna()\n",
        "df_selected.to_csv('proj_data.csv', header = False, index= False)"
      ],
      "execution_count": 0,
      "outputs": []
    },
    {
      "cell_type": "code",
      "metadata": {
        "id": "JVlVOET5ts_7",
        "colab_type": "code",
        "colab": {}
      },
      "source": [
        "df_selected['features'] = df_selected[df_selected.columns[1:]].apply(lambda x: ','.join(x.dropna().astype(str)),axis=1)\n",
        "# df_selected['feats'] = [[float(idx) for idx in x.split(\",\")] for x in df_selected['features']]\n"
      ],
      "execution_count": 0,
      "outputs": []
    },
    {
      "cell_type": "code",
      "metadata": {
        "id": "tOhAIMcIqToE",
        "colab_type": "code",
        "colab": {}
      },
      "source": [
        "df_selected.drop(df_selected.columns.difference(['geo_id','feats']), 1, inplace=True)"
      ],
      "execution_count": 0,
      "outputs": []
    },
    {
      "cell_type": "code",
      "metadata": {
        "id": "bGvqBm2pqnak",
        "colab_type": "code",
        "colab": {}
      },
      "source": [
        "df_selected.to_csv('proj_data.csv', header = False, index= False)"
      ],
      "execution_count": 0,
      "outputs": []
    },
    {
      "cell_type": "code",
      "metadata": {
        "id": "6rSzIPY-L3jR",
        "colab_type": "code",
        "colab": {}
      },
      "source": [
        "lines = sc.textFile('proj_data.csv').mapPartitions(lambda part: csv.reader(part))"
      ],
      "execution_count": 0,
      "outputs": []
    },
    {
      "cell_type": "code",
      "metadata": {
        "id": "PphQQ6HbMl7N",
        "colab_type": "code",
        "colab": {}
      },
      "source": [
        "header = lines.first()\n",
        "headerToIndex = dict([(header[i], i) for i in range(len(header))])"
      ],
      "execution_count": 0,
      "outputs": []
    },
    {
      "cell_type": "code",
      "metadata": {
        "id": "3-OEEPckMsmi",
        "colab_type": "code",
        "colab": {}
      },
      "source": [
        "from pyspark.ml.feature import BucketedRandomProjectionLSH\n",
        "from pyspark.ml.linalg import Vectors\n",
        "from pyspark.sql.functions import col"
      ],
      "execution_count": 0,
      "outputs": []
    },
    {
      "cell_type": "code",
      "metadata": {
        "id": "NpvBF72zOZfK",
        "colab_type": "code",
        "colab": {}
      },
      "source": [
        "data = lines.filter(lambda row: row != header)"
      ],
      "execution_count": 0,
      "outputs": []
    },
    {
      "cell_type": "markdown",
      "metadata": {
        "id": "dfVOPdfxmYrY",
        "colab_type": "text"
      },
      "source": [
        "##Analysis"
      ]
    },
    {
      "cell_type": "code",
      "metadata": {
        "id": "7py56qwkSo7F",
        "colab_type": "code",
        "outputId": "63da4f80-a562-4e68-ed30-730925325491",
        "colab": {
          "base_uri": "https://localhost:8080/",
          "height": 459
        }
      },
      "source": [
        "df = spark.read.option(\"delimiter\",\",\").csv(\"proj_data.csv\")\n",
        "dfUsed = df.select(col(\"_c0\"), col(\"_c1\"))\n",
        "dfUsed.show()"
      ],
      "execution_count": 0,
      "outputs": [
        {
          "output_type": "stream",
          "text": [
            "+------------+---+\n",
            "|         _c0|_c1|\n",
            "+------------+---+\n",
            "|490490102102| 28|\n",
            "|120111103032| 55|\n",
            "|550170111003|103|\n",
            "|170978649031|125|\n",
            "|360593015003| 48|\n",
            "|371790210071| 56|\n",
            "|510594602002| 55|\n",
            "|360593020001| 27|\n",
            "|250173001001|141|\n",
            "|240054038021| 81|\n",
            "|171978811081|179|\n",
            "|260910623005| 69|\n",
            "|420171050063| 76|\n",
            "|420034742033| 66|\n",
            "|360594115002| 24|\n",
            "|190314502003|100|\n",
            "|340373740002| 55|\n",
            "|510594915021|138|\n",
            "|420035638003| 41|\n",
            "|261550313022|117|\n",
            "+------------+---+\n",
            "only showing top 20 rows\n",
            "\n"
          ],
          "name": "stdout"
        }
      ]
    },
    {
      "cell_type": "code",
      "metadata": {
        "id": "7z0CobgH5zTr",
        "colab_type": "code",
        "colab": {}
      },
      "source": [
        "x = df.columns\n",
        "cols = x[1:]"
      ],
      "execution_count": 0,
      "outputs": []
    },
    {
      "cell_type": "code",
      "metadata": {
        "id": "u5m3Ve-2Evam",
        "colab_type": "code",
        "colab": {}
      },
      "source": [
        "from pyspark.sql.types import IntegerType\n",
        "for i in cols:\n",
        "  df = df.withColumn(i, df[i].cast(IntegerType()))"
      ],
      "execution_count": 0,
      "outputs": []
    },
    {
      "cell_type": "code",
      "metadata": {
        "id": "A1ydgZuVF9U8",
        "colab_type": "code",
        "outputId": "4b628d79-7ba1-4d1f-ce68-7110347d6984",
        "colab": {
          "base_uri": "https://localhost:8080/",
          "height": 54
        }
      },
      "source": [
        "df"
      ],
      "execution_count": 0,
      "outputs": [
        {
          "output_type": "execute_result",
          "data": {
            "text/plain": [
              "DataFrame[_c0: string, _c1: int, _c2: int, _c3: int, _c4: int, _c5: int, _c6: int, _c7: int, _c8: int, _c9: int, _c10: int, _c11: int, _c12: int, _c13: int, _c14: int, _c15: int, _c16: int, _c17: int, _c18: int, _c19: int, _c20: int, _c21: int, _c22: int, _c23: int, _c24: int, _c25: int, _c26: int, _c27: int, _c28: int, _c29: int, _c30: int, _c31: int, _c32: int, _c33: int, _c34: int, _c35: int, _c36: int, _c37: int, _c38: int, _c39: int, _c40: int, _c41: int, _c42: int, _c43: int, _c44: int, _c45: int, _c46: int, _c47: int, _c48: int, _c49: int, _c50: int, _c51: int, _c52: int, _c53: int, _c54: int, _c55: int, _c56: int, _c57: int, _c58: int, _c59: int, _c60: int, _c61: int, _c62: int, _c63: int, _c64: int, _c65: int, _c66: int, _c67: int, _c68: int, _c69: int, _c70: int, _c71: int, _c72: int, _c73: int, _c74: int, _c75: int, _c76: int, _c77: int, _c78: int, _c79: int, _c80: int, _c81: int, _c82: int, _c83: int, _c84: int, _c85: int, _c86: int, _c87: int, _c88: int, _c89: int, _c90: int, _c91: int, _c92: int, _c93: int, _c94: int, _c95: int, _c96: int, _c97: int, _c98: int, _c99: int, _c100: int, _c101: int, _c102: int, _c103: int, _c104: int, _c105: int, _c106: int, _c107: int, _c108: int, _c109: int, _c110: int, _c111: int, _c112: int, _c113: int, _c114: int, _c115: int, _c116: int, _c117: int, _c118: int, _c119: int, _c120: int, _c121: int, _c122: int, _c123: int, _c124: int, _c125: int, _c126: int, _c127: int, _c128: int, _c129: int, _c130: int, _c131: int, _c132: int, _c133: int, _c134: int, _c135: int, _c136: int, _c137: int, _c138: int, _c139: int, _c140: int, _c141: int, _c142: int, _c143: int, _c144: int, _c145: int]"
            ]
          },
          "metadata": {
            "tags": []
          },
          "execution_count": 175
        }
      ]
    },
    {
      "cell_type": "code",
      "metadata": {
        "id": "TWKVIWW5y4JS",
        "colab_type": "code",
        "colab": {}
      },
      "source": [
        "import pyspark.sql.functions as f\n",
        "columns = [df[i] for i in cols]"
      ],
      "execution_count": 0,
      "outputs": []
    },
    {
      "cell_type": "code",
      "metadata": {
        "id": "nvS9FxFj6rxQ",
        "colab_type": "code",
        "colab": {}
      },
      "source": [
        "output = df.withColumn(\"features\", f.array(columns)).select('_c0', 'features')"
      ],
      "execution_count": 0,
      "outputs": []
    },
    {
      "cell_type": "code",
      "metadata": {
        "id": "oocx9sJ17NuG",
        "colab_type": "code",
        "outputId": "f007dd77-21bf-4a94-ed36-e72622725bcf",
        "colab": {
          "base_uri": "https://localhost:8080/",
          "height": 459
        }
      },
      "source": [
        "output.show()"
      ],
      "execution_count": 0,
      "outputs": [
        {
          "output_type": "stream",
          "text": [
            "+------------+--------------------+\n",
            "|         _c0|            features|\n",
            "+------------+--------------------+\n",
            "|490490102102|[28, 301, 1993.0,...|\n",
            "|120111103032|[55, 427, 1995.0,...|\n",
            "|550170111003|[103, 314, 1978.0...|\n",
            "|170978649031|[125, 622, 1966.0...|\n",
            "|360593015003|[48, 278, 1943.0,...|\n",
            "|371790210071|[56, 746, 2002.0,...|\n",
            "|510594602002|[55, 578, 1976.0,...|\n",
            "|360593020001|[27, 318, 1952.0,...|\n",
            "|250173001001|[141, 378, 1958.0...|\n",
            "|240054038021|[81, 602, 1968.0,...|\n",
            "|171978811081|[179, 1078, 2000....|\n",
            "|260910623005|[69, 466, 1991.0,...|\n",
            "|420171050063|[76, 621, 1976.0,...|\n",
            "|420034742033|[66, 724, 1973.0,...|\n",
            "|360594115002|[24, 315, 1956.0,...|\n",
            "|190314502003|[100, 159, 1975.0...|\n",
            "|340373740002|[55, 501, 1978.0,...|\n",
            "|510594915021|[138, 721, 1988.0...|\n",
            "|420035638003|[41, 52, 1949.0, ...|\n",
            "|261550313022|[117, 390, 1979.0...|\n",
            "+------------+--------------------+\n",
            "only showing top 20 rows\n",
            "\n"
          ],
          "name": "stdout"
        }
      ]
    },
    {
      "cell_type": "markdown",
      "metadata": {
        "id": "iVloOJ1tnPMi",
        "colab_type": "text"
      },
      "source": [
        "Assembling all the features vectors and using geo id as the key to determine different characteristics which had to be fed for LSH "
      ]
    },
    {
      "cell_type": "code",
      "metadata": {
        "id": "gmVHBOIuD6vg",
        "colab_type": "code",
        "colab": {}
      },
      "source": [
        "from pyspark.ml.feature import VectorAssembler\n",
        "assembler = VectorAssembler(\n",
        "    inputCols=[i for i in cols],\n",
        "    outputCol=\"features\")\n",
        "final_df = assembler.transform(df)"
      ],
      "execution_count": 0,
      "outputs": []
    },
    {
      "cell_type": "code",
      "metadata": {
        "id": "yQ9TdxY-GgCG",
        "colab_type": "code",
        "outputId": "67b2ca6a-b7e9-417f-bcb3-de58a5d28c4b",
        "colab": {
          "base_uri": "https://localhost:8080/",
          "height": 54
        }
      },
      "source": [
        "final_df"
      ],
      "execution_count": 0,
      "outputs": [
        {
          "output_type": "execute_result",
          "data": {
            "text/plain": [
              "DataFrame[_c0: string, _c1: int, _c2: int, _c3: int, _c4: int, _c5: int, _c6: int, _c7: int, _c8: int, _c9: int, _c10: int, _c11: int, _c12: int, _c13: int, _c14: int, _c15: int, _c16: int, _c17: int, _c18: int, _c19: int, _c20: int, _c21: int, _c22: int, _c23: int, _c24: int, _c25: int, _c26: int, _c27: int, _c28: int, _c29: int, _c30: int, _c31: int, _c32: int, _c33: int, _c34: int, _c35: int, _c36: int, _c37: int, _c38: int, _c39: int, _c40: int, _c41: int, _c42: int, _c43: int, _c44: int, _c45: int, _c46: int, _c47: int, _c48: int, _c49: int, _c50: int, _c51: int, _c52: int, _c53: int, _c54: int, _c55: int, _c56: int, _c57: int, _c58: int, _c59: int, _c60: int, _c61: int, _c62: int, _c63: int, _c64: int, _c65: int, _c66: int, _c67: int, _c68: int, _c69: int, _c70: int, _c71: int, _c72: int, _c73: int, _c74: int, _c75: int, _c76: int, _c77: int, _c78: int, _c79: int, _c80: int, _c81: int, _c82: int, _c83: int, _c84: int, _c85: int, _c86: int, _c87: int, _c88: int, _c89: int, _c90: int, _c91: int, _c92: int, _c93: int, _c94: int, _c95: int, _c96: int, _c97: int, _c98: int, _c99: int, _c100: int, _c101: int, _c102: int, _c103: int, _c104: int, _c105: int, _c106: int, _c107: int, _c108: int, _c109: int, _c110: int, _c111: int, _c112: int, _c113: int, _c114: int, _c115: int, _c116: int, _c117: int, _c118: int, _c119: int, _c120: int, _c121: int, _c122: int, _c123: int, _c124: int, _c125: int, _c126: int, _c127: int, _c128: int, _c129: int, _c130: int, _c131: int, _c132: int, _c133: int, _c134: int, _c135: int, _c136: int, _c137: int, _c138: int, _c139: int, _c140: int, _c141: int, _c142: int, _c143: int, _c144: int, _c145: int, features: vector]"
            ]
          },
          "metadata": {
            "tags": []
          },
          "execution_count": 179
        }
      ]
    },
    {
      "cell_type": "code",
      "metadata": {
        "id": "n4MqkGjWaK0B",
        "colab_type": "code",
        "colab": {}
      },
      "source": [
        "brp = BucketedRandomProjectionLSH(inputCol=\"features\", outputCol=\"hashes\", bucketLength=2.0,\n",
        "                                      numHashTables=10)"
      ],
      "execution_count": 0,
      "outputs": []
    },
    {
      "cell_type": "code",
      "metadata": {
        "id": "6F312YKPyxcP",
        "colab_type": "code",
        "colab": {}
      },
      "source": [
        "model = brp.fit(final_df)"
      ],
      "execution_count": 0,
      "outputs": []
    },
    {
      "cell_type": "code",
      "metadata": {
        "id": "vMqyRsET5YqJ",
        "colab_type": "code",
        "outputId": "591d8a5c-7e8f-4afc-ce1d-3d1c935d037d",
        "colab": {
          "base_uri": "https://localhost:8080/",
          "height": 459
        }
      },
      "source": [
        "model.transform(final_df).select(col(\"_c0\"), col(\"features\"), col(\"hashes\")).show()"
      ],
      "execution_count": 0,
      "outputs": [
        {
          "output_type": "stream",
          "text": [
            "+------------+--------------------+--------------------+\n",
            "|         _c0|            features|              hashes|\n",
            "+------------+--------------------+--------------------+\n",
            "|490490102102|[28.0,301.0,1993....|[[814.0], [5234.0...|\n",
            "|120111103032|[55.0,427.0,1995....|[[1142.0], [7406....|\n",
            "|550170111003|[103.0,314.0,1978...|[[-277.0], [2822....|\n",
            "|170978649031|[125.0,622.0,1966...|[[885.0], [11512....|\n",
            "|360593015003|[48.0,278.0,1943....|[[6757.0], [21529...|\n",
            "|371790210071|[56.0,746.0,2002....|[[91.0], [10845.0...|\n",
            "|510594602002|[55.0,578.0,1976....|[[2999.0], [15216...|\n",
            "|360593020001|[27.0,318.0,1952....|[[9104.0], [28043...|\n",
            "|250173001001|[141.0,378.0,1958...|[[232.0], [4960.0...|\n",
            "|240054038021|[81.0,602.0,1968....|[[1945.0], [19092...|\n",
            "|171978811081|[179.0,1078.0,200...|[[-496.0], [2308....|\n",
            "|260910623005|[69.0,466.0,1991....|[[-408.0], [3754....|\n",
            "|420171050063|[76.0,621.0,1976....|[[1671.0], [9442....|\n",
            "|420034742033|[66.0,724.0,1973....|[[-1165.0], [4551...|\n",
            "|360594115002|[24.0,315.0,1956....|[[8425.0], [27437...|\n",
            "|190314502003|[100.0,159.0,1975...|[[-381.0], [3036....|\n",
            "|340373740002|[55.0,501.0,1978....|[[1125.0], [9041....|\n",
            "|510594915021|[138.0,721.0,1988...|[[2165.0], [12094...|\n",
            "|420035638003|[41.0,52.0,1949.0...|[[146.0], [6483.0...|\n",
            "|261550313022|[117.0,390.0,1979...|[[-313.0], [2903....|\n",
            "+------------+--------------------+--------------------+\n",
            "only showing top 20 rows\n",
            "\n"
          ],
          "name": "stdout"
        }
      ]
    },
    {
      "cell_type": "markdown",
      "metadata": {
        "id": "gm3i39ZToMZh",
        "colab_type": "text"
      },
      "source": [
        "*After fitting our LSH module to the feature vectors, we find out the Hashes generated using the features*"
      ]
    },
    {
      "cell_type": "code",
      "metadata": {
        "id": "cvr-SreYG1Gs",
        "colab_type": "code",
        "colab": {}
      },
      "source": [
        "threshold = 50000      # euclidean distance\n",
        "similar = model.approxSimilarityJoin(final_df, final_df, threshold).filter(\"distCol != 0\")"
      ],
      "execution_count": 0,
      "outputs": []
    },
    {
      "cell_type": "code",
      "metadata": {
        "id": "5gKE9lYfID1M",
        "colab_type": "code",
        "outputId": "fd4963c6-1bdf-4d18-a09c-147dfeda42f5",
        "colab": {
          "base_uri": "https://localhost:8080/",
          "height": 459
        }
      },
      "source": [
        "# spark.conf.set(\"spark.sql.autoBroadcastJoinThreshold\", -1)\n",
        "similar.show()"
      ],
      "execution_count": 214,
      "outputs": [
        {
          "output_type": "stream",
          "text": [
            "+--------------------+--------------------+------------------+\n",
            "|            datasetA|            datasetB|           distCol|\n",
            "+--------------------+--------------------+------------------+\n",
            "|[420990302024, 28...|[370270308004, 30...| 21316.86445047676|\n",
            "|[482090109062, 19...|[120570128001, 18...|25100.034302765405|\n",
            "|[471630411002, 25...|[470039507001, 78...| 30704.55728389517|\n",
            "|[250158201012, 34...|[550219706002, 21...|35918.749811205846|\n",
            "|[420032904004, 10...|[181650203001, 89...|25065.395189384108|\n",
            "|[470539673001, 86...|[292074703002, 13...|28985.615294487023|\n",
            "|[481410102172, 18...|[340076071003, 95...| 35824.71212724535|\n",
            "|[511210210002, 29...|[100050507011, 34...|24134.784461436568|\n",
            "|[290179502003, 12...|[130939701001, 18...|21841.441893794465|\n",
            "|[10950302012, 160...|[51250105112, 349...|48126.181720556226|\n",
            "|[100050503012, 24...|[410099708003, 37...| 38643.12337272959|\n",
            "|[481210215211, 11...|[420912088021, 18...|16162.228930441494|\n",
            "|[180179515001, 21...|[370850705003, 18...| 34865.40996460532|\n",
            "|[482090108043, 37...|[530630108001, 46...| 44826.31760472859|\n",
            "|[10010208023, 157...|[40135230031, 360...| 48331.54475081466|\n",
            "|[120030402021, 21...|[181179516001, 14...| 34889.81269654511|\n",
            "|[370779701021, 14...|[470650103051, 26...| 32124.75382006841|\n",
            "|[170810504001, 12...|[420350301002, 45...|31117.847065631002|\n",
            "|[120730009032, 55...|[261476420005, 26...|37048.615979547736|\n",
            "|[420076029002, 48...|[261251444001, 19...|44186.795538939004|\n",
            "+--------------------+--------------------+------------------+\n",
            "only showing top 20 rows\n",
            "\n"
          ],
          "name": "stdout"
        }
      ]
    },
    {
      "cell_type": "markdown",
      "metadata": {
        "id": "jjCdmKIcoo5m",
        "colab_type": "text"
      },
      "source": [
        "We run our code for a single hash table. Increasing the number of hash tables will increase the accuracy, but also the program’s communication cost and running time."
      ]
    },
    {
      "cell_type": "code",
      "metadata": {
        "id": "pW07kBTMTu-9",
        "colab_type": "code",
        "outputId": "07cb0aa2-8029-4d3a-ddfc-1f79d2e6f2dd",
        "colab": {
          "base_uri": "https://localhost:8080/",
          "height": 54
        }
      },
      "source": [
        "final_df.select(col('features')).take(1)    # random feature taken for finding nearest neighbor"
      ],
      "execution_count": 0,
      "outputs": [
        {
          "output_type": "execute_result",
          "data": {
            "text/plain": [
              "[Row(features=DenseVector([28.0, 301.0, 1993.0, 0.0, 0.0, 0.0, 0.0, 0.0, 0.0, 0.0, 0.0, 0.0, 2.0, 1431.0, 783.0, 648.0, 19.0, 1431.0, 0.0, 0.0, 0.0, 0.0, 0.0, 0.0, 1431.0, 35.0, 329.0, 102539.0, 23440.0, 363.0, 34.0, 24.0, 0.0, 2001.0, 10.0, 327.0, 0.0, 214.0, 97.0, 94.0, 73.0, 21.0, 0.0, 0.0, 3.0, 0.0, 0.0, 35.0, 65.0, 87.0, 65.0, 64.0, 83.0, 18205.0, 0.0, 10.0, 0.0, 10.0, 0.0, 16.0, 21.0, 0.0, 0.0, 31.0, 30.0, 46.0, 78.0, 34.0, 35.0, 18.0, 2001.0, 278000.0, 337100.0, 392700.0, 241.0, 329.0, 2.0, 363.0, 0.0, 0.0, 0.0, 0.0, 0.0, 0.0, 0.0, 0.0, 7.0, 59.0, 0.0, 28.0, 120.0, 104.0, 80.0, 77.0, 22.0, 0.0, 0.0, 19.0, 28.0, 24.0, 59.0, 89.0, 47.0, 22.0, 0.0, 9.0, 11.0, 38.0, 6.0, 0.0, 0.0, 0.0, 59.0, 65.0, 98.0, 101.0, 0.0, 7.0, 0.0, 12.0, 16.0, 30.0, 43.0, 59.0, 50.0, 37.0, 17.0, 7.0, 14.0, 17.0, 0.0, 6.0, 10.0, 0.0, 0.0, 1431.0, 0.0, 0.0, 0.0, 18.0, 8.0, 13.0, 77.0, 14.0, 62.0]))]"
            ]
          },
          "metadata": {
            "tags": []
          },
          "execution_count": 205
        }
      ]
    },
    {
      "cell_type": "code",
      "metadata": {
        "id": "uKEPhleYNQFz",
        "colab_type": "code",
        "outputId": "4c44ecb4-7c48-45f2-c260-b23c244fcf98",
        "colab": {
          "base_uri": "https://localhost:8080/",
          "height": 292
        }
      },
      "source": [
        "key = Vectors.dense([28.0, 301.0, 1993.0, 0.0, 0.0, 0.0, 0.0, 0.0, 0.0, 0.0, 0.0, 0.0, 2.0, 1431.0, 783.0, 648.0, 19.0, 1431.0, 0.0, 0.0, 0.0, 0.0, 0.0, 0.0, 1431.0, 35.0, 329.0, 102539.0, 23440.0, 363.0, 34.0, 24.0, 0.0, 2001.0, 10.0, 327.0, 0.0, 214.0, 97.0, 94.0, 73.0, 21.0, 0.0, 0.0, 3.0, 0.0, 0.0, 35.0, 65.0, 87.0, 65.0, 64.0, 83.0, 18205.0, 0.0, 10.0, 0.0, 10.0, 0.0, 16.0, 21.0, 0.0, 0.0, 31.0, 30.0, 46.0, 78.0, 34.0, 35.0, 18.0, 2001.0, 278000.0, 337100.0, 392700.0, 241.0, 329.0, 2.0, 363.0, 0.0, 0.0, 0.0, 0.0, 0.0, 0.0, 0.0, 0.0, 7.0, 59.0, 0.0, 28.0, 120.0, 104.0, 80.0, 77.0, 22.0, 0.0, 0.0, 19.0, 28.0, 24.0, 59.0, 89.0, 47.0, 22.0, 0.0, 9.0, 11.0, 38.0, 6.0, 0.0, 0.0, 0.0, 59.0, 65.0, 98.0, 101.0, 0.0, 7.0, 0.0, 12.0, 16.0, 30.0, 43.0, 59.0, 50.0, 37.0, 17.0, 7.0, 14.0, 17.0, 0.0, 6.0, 10.0, 0.0, 0.0, 1431.0, 0.0, 0.0, 0.0, 18.0, 8.0, 13.0, 77.0, 14.0, 62.0])\n",
        "model.approxNearestNeighbors(final_df, key, 10).show()"
      ],
      "execution_count": 0,
      "outputs": [
        {
          "output_type": "stream",
          "text": [
            "+------------+----+----+----+---+---+---+---+---+---+----+----+----+----+----+----+----+----+----+----+----+----+----+----+----+----+----+----+------+-----+----+----+----+----+----+----+----+----+----+----+----+----+----+----+----+----+----+----+----+----+----+----+----+----+-----+----+----+----+----+----+----+----+----+----+----+----+----+----+----+----+----+----+------+------+------+----+----+----+----+----+----+----+----+----+----+----+----+----+----+----+----+----+----+----+----+----+----+----+----+----+-----+-----+-----+-----+-----+-----+-----+-----+-----+-----+-----+-----+-----+-----+-----+-----+-----+-----+-----+-----+-----+-----+-----+-----+-----+-----+-----+-----+-----+-----+-----+-----+-----+-----+-----+-----+-----+-----+-----+-----+-----+-----+-----+-----+-----+-----+--------------------+--------------------+------------------+\n",
            "|         _c0| _c1| _c2| _c3|_c4|_c5|_c6|_c7|_c8|_c9|_c10|_c11|_c12|_c13|_c14|_c15|_c16|_c17|_c18|_c19|_c20|_c21|_c22|_c23|_c24|_c25|_c26|_c27|  _c28| _c29|_c30|_c31|_c32|_c33|_c34|_c35|_c36|_c37|_c38|_c39|_c40|_c41|_c42|_c43|_c44|_c45|_c46|_c47|_c48|_c49|_c50|_c51|_c52|_c53| _c54|_c55|_c56|_c57|_c58|_c59|_c60|_c61|_c62|_c63|_c64|_c65|_c66|_c67|_c68|_c69|_c70|_c71|  _c72|  _c73|  _c74|_c75|_c76|_c77|_c78|_c79|_c80|_c81|_c82|_c83|_c84|_c85|_c86|_c87|_c88|_c89|_c90|_c91|_c92|_c93|_c94|_c95|_c96|_c97|_c98|_c99|_c100|_c101|_c102|_c103|_c104|_c105|_c106|_c107|_c108|_c109|_c110|_c111|_c112|_c113|_c114|_c115|_c116|_c117|_c118|_c119|_c120|_c121|_c122|_c123|_c124|_c125|_c126|_c127|_c128|_c129|_c130|_c131|_c132|_c133|_c134|_c135|_c136|_c137|_c138|_c139|_c140|_c141|_c142|_c143|_c144|_c145|            features|              hashes|           distCol|\n",
            "+------------+----+----+----+---+---+---+---+---+---+----+----+----+----+----+----+----+----+----+----+----+----+----+----+----+----+----+----+------+-----+----+----+----+----+----+----+----+----+----+----+----+----+----+----+----+----+----+----+----+----+----+----+----+----+-----+----+----+----+----+----+----+----+----+----+----+----+----+----+----+----+----+----+------+------+------+----+----+----+----+----+----+----+----+----+----+----+----+----+----+----+----+----+----+----+----+----+----+----+----+----+-----+-----+-----+-----+-----+-----+-----+-----+-----+-----+-----+-----+-----+-----+-----+-----+-----+-----+-----+-----+-----+-----+-----+-----+-----+-----+-----+-----+-----+-----+-----+-----+-----+-----+-----+-----+-----+-----+-----+-----+-----+-----+-----+-----+-----+-----+--------------------+--------------------+------------------+\n",
            "|490490102102|  28| 301|1993|  0|  0|  0|  0|  0|  0|   0|   0|   0|   2|1431| 783| 648|  19|1431|   0|   0|   0|   0|   0|   0|1431|  35| 329|102539|23440| 363|  34|  24|   0|2001|  10| 327|   0| 214|  97|  94|  73|  21|   0|   0|   3|   0|   0|  35|  65|  87|  65|  64|  83|18205|   0|  10|   0|  10|   0|  16|  21|   0|   0|  31|  30|  46|  78|  34|  35|  18|2001|278000|337100|392700| 241| 329|   2| 363|   0|   0|   0|   0|   0|   0|   0|   0|   7|  59|   0|  28| 120| 104|  80|  77|  22|   0|   0|  19|  28|   24|   59|   89|   47|   22|    0|    9|   11|   38|    6|    0|    0|    0|   59|   65|   98|  101|    0|    7|    0|   12|   16|   30|   43|   59|   50|   37|   17|    7|   14|   17|    0|    6|   10|    0|    0| 1431|    0|    0|    0|   18|    8|   13|   77|   14|   62|[28.0,301.0,1993....|[[814.0], [5234.0...|               0.0|\n",
            "|170318241051| 141| 646|1978|  0|  0|  0| 12|  0|  0|   0|  13|   0|   0|2287|1273|1014|  36|1873|   0|  83| 331|   0|   0|   0|1956|  57| 787| 90947|31664| 787|   0|   0|   0| 648|  19| 762|   0| 549| 204| 204|  34|  95|   0|  75|   0|   0|   0| 129| 134| 121|  51| 169| 155|40030|  14|  37|   0|  12|  24|   0|   0|  56|  22|  61|  96| 109| 185| 103|  68|   0| 798|268100|336900|381400| 556| 787|  25| 589| 113|   0|   0|   0|  73|  12|   0|   0|  42|   0|   0| 154|  25|  65|  76|  32|  36|  18|  92|  89|  65|   80|  101|   74|   73|   51|   15|   83|   25|   41|   62|    0|   16|    0|   50|   56|   54|   69|   48|    0|   14|   32|   32|   86|   80|   78|   83|   85|   94|   14|   43|   12|   24|   25|   12|   11|   12| 2002|    0|    0|   83|   40|    0|  124|  187|   43|  129|[141.0,646.0,1978...|[[457.0], [3930.0...|30179.567541633198|\n",
            "|361031467032| 114| 617|1959|  0|  5| 11|  0|  7|  0|   0|   0|   0|   0|2337|1157|1180|  37|1335| 191| 111| 653|  16|  22|   9|1684|  84| 731| 77697|28972| 773|  42|   0|   0| 859|  44| 708|   0| 528| 244| 168|  45| 123|   0|   0|  76|   0|   0| 195| 217|  26| 107| 174| 100|35475|   0|  26|   6|  17|   0|  28|  25|   8|  65|  79|  90| 116| 123|  31|  98|  19|1148|312000|361500|436100| 453| 731|  23| 753|   8|   7|   5|   0|   0|   0|   0|   0|   0|   0|  13| 136|  49|  80|  22|  11|  23|   7|  11|  91| 183|  118|  133|   65|   50|   59|    7|    8|   21|    7|   35|   25|    7|    9|   61|   62|  101|   53|   16|    0|    0|  114|   38|   82|   25|  114|  188|   70|   80|   20|   22|   24|   11|   32|   25|   23|   19| 1860|  191|   25|  120|  138|    0|    0|   52|  121|  182|[114.0,617.0,1959...|[[1466.0], [6579....| 67722.24762218099|\n",
            "| 60014419252| 388| 696|1992|  0| 64| 57| 41|122| 93|  71| 125| 199|  25|2390|1238|1152|  32| 951|  28| 696| 642|   0|   0|  73|1748| 267|1084| 91154|45493|1204| 120|  42|   0|1537|  23| 287|   0| 266| 243| 198|  81| 117|   0|   0|  45|   7|   7|  79| 144| 155|  36| 143| 241|43010|   0|   8|   0|   0|  58|  76|   0|  60|  14|  28| 183| 210| 182| 110| 130|  25|1647|309800|365000|458300| 542|1084| 797| 100| 179|   0|   0|  68| 219| 216| 422|   0|   0| 189|   0| 122|  29|  51|  21|  13|   0|  25|  77| 134| 252|  127|   70|  161|   60|    0|    0|   44|    0|   12|   21|   19|    0|    0|   74|   67|   62|   15|   11|    0|    0|   71|  224|  194|   78|  103|  123|   20|   38|    8|   10|    0|    0|   40|    0|    0|   14| 1121|   42|    0|  751|   90|   24|  114|  192|   29|   96|[388.0,696.0,1992...|[[1063.0], [7545....| 85625.31709722306|\n",
            "| 40190040431| 293| 600|1995|  8|113|  0|  0| 13| 11|   7|  14|   0|   0|2207|1036|1171|  42|1621|  59| 207| 208|   0|   0| 112|1999|  21| 893| 72991|32832| 908|  15|   0|   0|1110|  50| 727|   0| 531| 157| 157| 119|  38|   0|   0|   0|   0|   0| 147| 133| 144|  91| 164|  77|22815|  56|   0|  13|  23|  21| 117|  29|  13|  18|  22| 157| 158|  82| 118|  36|  30|1360|232900|276100|339000| 565| 893| 166| 908|   0|   0|   0|   0|   0|   0|   0|   0|  21| 216|   0|  57|  52|  76|  20|  19|  37|   0|   0|  63|  29|   99|  151|   73|   69|   67|   23|   38|   50|   24|   56|   22|    0|   11|   92|   86|   37|   49|    8|    0|    0|   66|   39|   40|   64|   89|   84|   53|   85|   25|   68|   50|   59|   82|   25|   48|   22| 1777|   59|    0|  234|   75|   27|   30|    0|   34|  290|[293.0,600.0,1995...|[[814.0], [5994.0...|  98112.5942425334|\n",
            "|120990077301|  46| 483|1993|  0| 13| 44|  0|  0|  0|  32|   0|  28|   0|1585| 759| 826|  44|1165| 175|  19| 159|   0|   0|  67|1426|  14| 529| 81553|32486| 657| 128|   0|   0|1173|  24| 412|   0| 340| 102|  68|  68|   0|   0|   0|  34|   0|   0| 152| 146| 130|  98| 120|   0|20565|   0|   0|  17|   0|  13|  18|  62|  26|   0|  15|  93|  79|  79|  65|  17|  45|1379|334200|398100|478700| 463| 529| 117| 428|  57|   0|  95|  77|   0|   0|   0|   0|  28|   0|   0|  28|  62|  36|  28|   0|  38|   0|  10|  13|  59|   15|   76|   59|   43|   82|   67|   39|   15|   15|    0|   74|    0|    0|   34|   92|   70|    0|   17|   25|   15|   17|    0|   26|   49|   95|   61|  110|   30|   68|   46|    0|    0|   53|   18|    0|    0| 1324|  175|    0|   19|   55|   54|   51|   38|   16|  130|[46.0,483.0,1993....|[[1944.0], [8325....|121675.79696883024|\n",
            "|261251936001| 158| 376|1994|  7|  0|  0|  4|  0|  0|  32|   0|   0|   0|1267| 606| 661|  46|1128|   0| 139|   0|   0|   0|   0|1267|   0| 534| 83382|36339| 534|   0|   0|   0| 228|  22| 491|   0| 355|  24|  24|  24|   0|   0|   0|   0|   0|   0|  42| 100|  84| 112|  35|  43|15085|  28|  50|  24|  20|  42|   0|  18|  13|   0|  16|  41|  84|  62|  58|  54|  24| 528|167100|280100|383100| 358| 534|  43| 534|   0|   0|   0|   0|   0|   0|   0|   0|  13|  94|   9|   0|  25|  77|   8|  38|   0|  32|  10|  20|   8|   27|   23|  100|   37|   63|   36|   13|   27|   18|    9|   35|    0|    0|   24|   80|   41|   17|    0|   23|    0|   24|   26|    0|   25|   60|   84|   65|   21|   66|    9|    9|   26|   28|   33|    0|    0| 1128|    0|    0|  139|   51|   27|   14|   55|    0|  170|[158.0,376.0,1994...|[[-391.0], [4095....|127236.08359659613|\n",
            "|261614038001| 294| 624|1973| 11|139| 10| 17| 39| 27|  68| 122| 144|  47|2316| 879|1437|  33|1165| 555| 439|   0|  46|   7| 104|2316| 114| 918| 45577|27685| 944|  26|   0|  26| 492|  19| 294|   0| 188| 240| 176|  44| 132|   0|   0|  64|   0|   0| 243| 234| 122|  38|  60|  27|21145| 115|  16|  17|  27|  38|  69|  59| 115|  13| 112|  67|  94|  37|  18|  81|  40| 678|187500|242900|358900| 406| 918| 624| 351| 219|  18| 128|  92|  60|  68|   8|   0|  33|  17|   8|  50|  44|  34|  47|  20|  11|   0|  18|  67| 121|   66|   38|   68|   70|  104|   30|   12|   29|    9|   18|   23|    0|    0|  122|  158|  126|   52|   41|    0|   13|   89|  124|  140|   71|   67|  106|  138|   51|   20|   35|    8|   10|   38|   10|   18|    0| 1165|  555|   46|  439|  182|    0|   33|   38|   23|  139|[294.0,624.0,1973...|[[814.0], [5943.0...|146584.90296752937|\n",
            "|517100069012| 210| 168|1970| 29|  7| 25|  0| 55| 24|  22|   0|   0|   0| 800| 312| 488|  41| 241| 389| 120|  19|   0|   0|  31| 781|   0| 378| 37031|20804| 378|   0|   0|   0| 752|  31| 216|   0| 199|  42|   0|   0|   0|   0|   0|  42|   0|   0|  99| 182|  68|   0|  62|   0| 8275|  55|  31|   8|   8|  33|  28|  39|  28|  38|  40|   0|  49|   0|  21|   0|   0| 822|154300|207300|269700| 152| 378| 162| 204|   0|  37|  15|   0|   0|  51|  71|   0|  39|  27|  48|  26|   0|   9|  22|   9|   0|   0|  49|  12|  17|   58|   52|    0|   12|   23|    0|    0|    0|    0|    9|    0|    5|    9|   16|   31|   27|    0|   15|    0|    0|   14|   51|    0|   25|   27|   37|   25|   48|   33|    0|   31|    9|   24|   39|    9|   27|  253|  389|    0|  120|   19|   12|   18|    0|    0|   84|[210.0,168.0,1970...|[[814.0], [4508.0...|227339.02239166948|\n",
            "|510594316001|1113|1120|1996|141|387|193| 68|117| 96|  72|  65|  89|  14|4391|1826|2565|  57|2807| 473| 851| 171|   0|   0|  89|4220|  59|2233| 66477|53410|2328|  95|   0|   0|1999|  41| 991|  49| 578| 231| 231| 207|  24|   0|   0|   0|   0|   0|  78|  37| 126| 172| 295| 123|48060|  69|  71| 100|  80|  59|  79|  80| 139| 111| 154| 291| 184| 218| 155| 131| 312|1999|327300|447700|704700|1050|2233|1242| 496| 224|  13|  14|   0| 177| 126|1278|   0|   0| 700|  14| 154| 113| 113|  79|  23|  46|   0|   0|   0| 180|   36|   92|   76|  151|   60|   67|   37|   37|   12|   28|  114|  127|  281|   35|   77|  192|   79|   56|    0|    0|    2|   60|  131|   95|   68|   93|  178|   74|   50|   72|   28|   40|  206|  224|  447|  358| 2807|  473|    0|  851|   33|   82|  187|  158|   54| 1108|[1113.0,1120.0,19...|[[1254.0], [11085...| 339329.0679709005|\n",
            "+------------+----+----+----+---+---+---+---+---+---+----+----+----+----+----+----+----+----+----+----+----+----+----+----+----+----+----+----+------+-----+----+----+----+----+----+----+----+----+----+----+----+----+----+----+----+----+----+----+----+----+----+----+----+----+-----+----+----+----+----+----+----+----+----+----+----+----+----+----+----+----+----+----+------+------+------+----+----+----+----+----+----+----+----+----+----+----+----+----+----+----+----+----+----+----+----+----+----+----+----+----+-----+-----+-----+-----+-----+-----+-----+-----+-----+-----+-----+-----+-----+-----+-----+-----+-----+-----+-----+-----+-----+-----+-----+-----+-----+-----+-----+-----+-----+-----+-----+-----+-----+-----+-----+-----+-----+-----+-----+-----+-----+-----+-----+-----+-----+-----+--------------------+--------------------+------------------+\n",
            "\n"
          ],
          "name": "stdout"
        }
      ]
    },
    {
      "cell_type": "markdown",
      "metadata": {
        "id": "ITqXphdYpNu7",
        "colab_type": "text"
      },
      "source": [
        "For an approximate similarity join and the approximate nearest neighbor command, the number of hash tables can be used to trade off between running time and false positive rate."
      ]
    },
    {
      "cell_type": "code",
      "metadata": {
        "id": "bLd7VLiYWCyW",
        "colab_type": "code",
        "colab": {}
      },
      "source": [
        "dem_cols = ['geo_id','total_pop','male_pop','female_pop','median_age','white_pop','black_pop','asian_pop','hispanic_pop','amerindian_pop','other_race_pop', 'median_income','income_per_capita', 'median_rent']"
      ],
      "execution_count": 0,
      "outputs": []
    },
    {
      "cell_type": "code",
      "metadata": {
        "id": "L1NFbo9adVB9",
        "colab_type": "code",
        "colab": {}
      },
      "source": [
        "df_dem = df_all[dem_cols]\n",
        "df_dem = df_dem.dropna()"
      ],
      "execution_count": 0,
      "outputs": []
    },
    {
      "cell_type": "markdown",
      "metadata": {
        "id": "F1-qTOgUq7M3",
        "colab_type": "text"
      },
      "source": [
        "We found out that due to very high dimensionality of our data, the hash functions that were created were not very optimal. We then tried to use only the most critical demographic features to see if the results were any better."
      ]
    },
    {
      "cell_type": "code",
      "metadata": {
        "id": "aAvNUA09dhFG",
        "colab_type": "code",
        "colab": {}
      },
      "source": [
        "df_dem.to_csv('dem_data.csv', header = False, index= False)"
      ],
      "execution_count": 0,
      "outputs": []
    },
    {
      "cell_type": "code",
      "metadata": {
        "id": "qIXYWJt_dsyA",
        "colab_type": "code",
        "colab": {
          "base_uri": "https://localhost:8080/",
          "height": 459
        },
        "outputId": "ac966a14-ae41-45af-fa3c-e0c24ac8c631"
      },
      "source": [
        "df = spark.read.option(\"delimiter\",\",\").csv(\"dem_data.csv\")\n",
        "dfUsed = df.select(col(\"_c0\"), col(\"_c1\"))\n",
        "dfUsed.show()"
      ],
      "execution_count": 223,
      "outputs": [
        {
          "output_type": "stream",
          "text": [
            "+------------+----+\n",
            "|         _c0| _c1|\n",
            "+------------+----+\n",
            "|510594916021|2920|\n",
            "|490490102102|1431|\n",
            "|511076107023|1169|\n",
            "|360593031022| 963|\n",
            "|120111103032|1418|\n",
            "|511076118052|2177|\n",
            "|360179706012| 780|\n",
            "|390170111163|3117|\n",
            "|120990078223|2332|\n",
            "|171670034005| 830|\n",
            "|371790210072|2159|\n",
            "|360595177012|2385|\n",
            "| 60590218242|1491|\n",
            "|550170111003|1160|\n",
            "|170978649031|2317|\n",
            "|360593015003|1053|\n",
            "|481390602112|1314|\n",
            "| 60590626313| 601|\n",
            "|371790210071|2768|\n",
            "|340030321021|1833|\n",
            "+------------+----+\n",
            "only showing top 20 rows\n",
            "\n"
          ],
          "name": "stdout"
        }
      ]
    },
    {
      "cell_type": "code",
      "metadata": {
        "id": "DFUJmzUTd5J-",
        "colab_type": "code",
        "colab": {}
      },
      "source": [
        "x = df.columns\n",
        "cols = x[1:]\n",
        "\n",
        "from pyspark.sql.types import IntegerType\n",
        "for i in cols:\n",
        "  df = df.withColumn(i, df[i].cast(IntegerType()))\n",
        "\n",
        "from pyspark.ml.feature import VectorAssembler\n",
        "\n",
        "assembler = VectorAssembler(\n",
        "    inputCols=[i for i in cols],\n",
        "    outputCol=\"features\")\n",
        "final_df = assembler.transform(df)"
      ],
      "execution_count": 0,
      "outputs": []
    },
    {
      "cell_type": "code",
      "metadata": {
        "id": "KBvXWQvMeecW",
        "colab_type": "code",
        "colab": {}
      },
      "source": [
        "brp = BucketedRandomProjectionLSH(inputCol=\"features\", outputCol=\"hashes\", bucketLength=2.0,\n",
        "                                      numHashTables=10)"
      ],
      "execution_count": 0,
      "outputs": []
    },
    {
      "cell_type": "code",
      "metadata": {
        "id": "H4SfqrUVe6TY",
        "colab_type": "code",
        "colab": {}
      },
      "source": [
        "model = brp.fit(final_df)"
      ],
      "execution_count": 0,
      "outputs": []
    },
    {
      "cell_type": "code",
      "metadata": {
        "id": "5fub8t5Ae9tJ",
        "colab_type": "code",
        "colab": {
          "base_uri": "https://localhost:8080/",
          "height": 459
        },
        "outputId": "0ffef9e3-a6da-457f-a2e8-7e11b9a15930"
      },
      "source": [
        "model.transform(final_df).select(col(\"_c0\"), col(\"features\"), col(\"hashes\")).show()"
      ],
      "execution_count": 228,
      "outputs": [
        {
          "output_type": "stream",
          "text": [
            "+------------+--------------------+--------------------+\n",
            "|         _c0|            features|              hashes|\n",
            "+------------+--------------------+--------------------+\n",
            "|510594916021|[2920.0,1397.0,15...|[[21857.0], [1894...|\n",
            "|490490102102|[1431.0,783.0,648...|[[22676.0], [1792...|\n",
            "|511076107023|[1169.0,606.0,563...|[[29269.0], [2374...|\n",
            "|360593031022|[963.0,406.0,557....|[[23418.0], [2058...|\n",
            "|120111103032|[1418.0,700.0,718...|[[24039.0], [2026...|\n",
            "|511076118052|[2177.0,990.0,118...|[[31622.0], [2555...|\n",
            "|360179706012|[780.0,419.0,361....|[[12302.0], [1024...|\n",
            "|390170111163|[3117.0,1623.0,14...|[[28104.0], [2334...|\n",
            "|120990078223|[2332.0,1139.0,11...|[[22607.0], [1858...|\n",
            "|171670034005|[830.0,468.0,362....|[[16100.0], [1307...|\n",
            "|371790210072|[2159.0,1154.0,10...|[[33801.0], [2823...|\n",
            "|360595177012|[2385.0,1135.0,12...|[[48456.0], [4043...|\n",
            "| 60590218242|[1491.0,808.0,683...|[[37028.0], [3161...|\n",
            "|550170111003|[1160.0,596.0,564...|[[11093.0], [9501...|\n",
            "|170978649031|[2317.0,1158.0,11...|[[31537.0], [2701...|\n",
            "|360593015003|[1053.0,535.0,518...|[[43358.0], [3646...|\n",
            "|481390602112|[1314.0,663.0,651...|[[19824.0], [1750...|\n",
            "| 60590626313|[601.0,254.0,347....|[[20843.0], [1860...|\n",
            "|371790210071|[2768.0,1327.0,14...|[[35283.0], [2972...|\n",
            "|340030321021|[1833.0,964.0,869...|[[35776.0], [3161...|\n",
            "+------------+--------------------+--------------------+\n",
            "only showing top 20 rows\n",
            "\n"
          ],
          "name": "stdout"
        }
      ]
    },
    {
      "cell_type": "code",
      "metadata": {
        "id": "JCzXlOwffA2W",
        "colab_type": "code",
        "colab": {}
      },
      "source": [
        "threshold = 100      # euclidean distance\n",
        "similar = model.approxSimilarityJoin(final_df, final_df, threshold).filter(\"distCol != 0\")"
      ],
      "execution_count": 0,
      "outputs": []
    },
    {
      "cell_type": "code",
      "metadata": {
        "id": "81XdJjbJfKNl",
        "colab_type": "code",
        "colab": {
          "base_uri": "https://localhost:8080/",
          "height": 459
        },
        "outputId": "54d45faa-3a91-4adc-a99d-9f9f19311b59"
      },
      "source": [
        "similar.show()"
      ],
      "execution_count": 233,
      "outputs": [
        {
          "output_type": "stream",
          "text": [
            "+--------------------+--------------------+------------------+\n",
            "|            datasetA|            datasetB|           distCol|\n",
            "+--------------------+--------------------+------------------+\n",
            "|[421279603001, 10...|[360099611004, 10...| 75.07329751649384|\n",
            "|[201079552002, 11...|[261590101005, 11...| 93.03762679690406|\n",
            "|[380779714002, 79...|[420391119001, 81...|58.532042506647585|\n",
            "|[460619641003, 11...|[180950101001, 11...| 85.17628778010932|\n",
            "|[295101083002, 89...|[245102007015, 87...|  94.2178327069775|\n",
            "|[551239607004, 11...|[421150326001, 11...|              79.0|\n",
            "|[360010127003, 58...|[172010015002, 56...|  98.2496819333274|\n",
            "|[550679603002, 64...|[270935605003, 64...|  77.9743547584717|\n",
            "|[120860006043, 71...|[481410023003, 73...| 72.39475119095306|\n",
            "|[261590101005, 11...|[201079552002, 11...| 93.03762679690406|\n",
            "|[391517113111, 16...|[390610204014, 16...| 92.50405396521819|\n",
            "|[550870131003, 76...|[410099703005, 73...| 90.69178573608527|\n",
            "|[470619551001, 96...|[180459580001, 97...| 88.07383266328314|\n",
            "|[180459580001, 97...|[470619551001, 96...| 88.07383266328314|\n",
            "|[310839642002, 98...|[471839684005, 98...| 85.86035173466273|\n",
            "|[340210021003, 89...|[371190052002, 92...| 76.32823854904552|\n",
            "|[481410023003, 73...|[120860006043, 71...| 72.39475119095306|\n",
            "|[720210312013, 14...|[721270048001, 15...| 87.14929718592113|\n",
            "|[311759714003, 69...|[310899742002, 71...|  95.7653381970742|\n",
            "|[250158225004, 22...|[210290204002, 22...| 93.78699270154684|\n",
            "+--------------------+--------------------+------------------+\n",
            "only showing top 20 rows\n",
            "\n"
          ],
          "name": "stdout"
        }
      ]
    },
    {
      "cell_type": "markdown",
      "metadata": {
        "id": "JJGw6vocrRUK",
        "colab_type": "text"
      },
      "source": [
        "And indeed, our hunch was correct, the dimensionality was playing a key issue in the formation of very irregular hashes. The distance got reduced by a factor of 100. This information would be our initial analysis which we would be later on using for Clustering and Analyzing various demographic features and their dependence on income levels."
      ]
    },
    {
      "cell_type": "code",
      "metadata": {
        "id": "-vNh8klzfPmV",
        "colab_type": "code",
        "colab": {}
      },
      "source": [
        ""
      ],
      "execution_count": 0,
      "outputs": []
    },
    {
      "cell_type": "markdown",
      "metadata": {
        "id": "ugbQfVZWsvKT",
        "colab_type": "text"
      },
      "source": [
        "After we were already on our course in our analysis, we came across this paper [NIPS 2015](http://papers.nips.cc/paper/5893-practical-and-optimal-lsh-for-angular-distance). We realized that for distributed aspect of Locality Sensitive Hashing, a multi-probe based method would be faster and more efficient. We weren't able to implement it ourselves, but found a library in Scala which works well. We tried to validate our results using FALCONN library as well."
      ]
    },
    {
      "cell_type": "code",
      "metadata": {
        "id": "NMlwfnWQuGFf",
        "colab_type": "code",
        "colab": {
          "base_uri": "https://localhost:8080/",
          "height": 207
        },
        "outputId": "1f1fd9ca-32cd-4a99-d1fd-d08c9802f206"
      },
      "source": [
        "!pip install FALCONN"
      ],
      "execution_count": 234,
      "outputs": [
        {
          "output_type": "stream",
          "text": [
            "Collecting FALCONN\n",
            "\u001b[?25l  Downloading https://files.pythonhosted.org/packages/96/b8/0d2c629d59398a7b3ed8726ce049abf6746bbf09d1ad15878d4fcf8048a6/FALCONN-1.3.1.tar.gz (1.4MB)\n",
            "\u001b[K     |████████████████████████████████| 1.4MB 3.5MB/s \n",
            "\u001b[?25hBuilding wheels for collected packages: FALCONN\n",
            "  Building wheel for FALCONN (setup.py) ... \u001b[?25l\u001b[?25hdone\n",
            "  Created wheel for FALCONN: filename=FALCONN-1.3.1-cp36-cp36m-linux_x86_64.whl size=10581603 sha256=7a045214d3861023bd12d17fa3eb07c195e8e7e865c03882e38275a8f1905645\n",
            "  Stored in directory: /root/.cache/pip/wheels/bf/36/96/d5538901888620fc0343c1ed9d5f87fce00869e00c12056ef8\n",
            "Successfully built FALCONN\n",
            "Installing collected packages: FALCONN\n",
            "Successfully installed FALCONN-1.3.1\n"
          ],
          "name": "stdout"
        }
      ]
    },
    {
      "cell_type": "code",
      "metadata": {
        "id": "QKNP6ApguN0E",
        "colab_type": "code",
        "colab": {}
      },
      "source": [
        "dataset = df_selected.to_numpy()\n",
        "dataset = dataset.astype('float32')     # converting data to numpy\n",
        "dataset /= np.linalg.norm(dataset, axis=1).reshape(-1, 1)   # standardizing the data"
      ],
      "execution_count": 0,
      "outputs": []
    },
    {
      "cell_type": "code",
      "metadata": {
        "id": "RDdI6104u1r1",
        "colab_type": "code",
        "colab": {}
      },
      "source": [
        "number_of_queries = 1000\n",
        "number_of_tables = 50\n",
        "np.random.seed(4057218)\n",
        "np.random.shuffle(dataset)\n",
        "queries = dataset[len(dataset) - number_of_queries:]\n",
        "dataset = dataset[:len(dataset) - number_of_queries]"
      ],
      "execution_count": 0,
      "outputs": []
    },
    {
      "cell_type": "code",
      "metadata": {
        "id": "E0SvyYdPu-ux",
        "colab_type": "code",
        "colab": {}
      },
      "source": [
        "answers = []\n",
        "for query in queries:\n",
        "    answers.append(np.dot(dataset, query).argmax())   # computing the dot product for LSH"
      ],
      "execution_count": 0,
      "outputs": []
    },
    {
      "cell_type": "code",
      "metadata": {
        "id": "VR8o-sclvIbF",
        "colab_type": "code",
        "colab": {}
      },
      "source": [
        "center = np.mean(dataset, axis=0)   # mean centering the data\n",
        "dataset -= center\n",
        "queries -= center"
      ],
      "execution_count": 0,
      "outputs": []
    },
    {
      "cell_type": "code",
      "metadata": {
        "id": "uNYQJb4CvQHO",
        "colab_type": "code",
        "colab": {}
      },
      "source": [
        "# setting up all parameters as required\n",
        "\n",
        "import falconn\n",
        "\n",
        "params_cp = falconn.LSHConstructionParameters()\n",
        "params_cp.dimension = len(dataset[0])\n",
        "params_cp.lsh_family = falconn.LSHFamily.CrossPolytope\n",
        "params_cp.distance_function = falconn.DistanceFunction.EuclideanSquared\n",
        "params_cp.l = number_of_tables\n",
        "params_cp.num_rotations = 1\n",
        "params_cp.seed = 5721840\n",
        "params_cp.num_setup_threads = 0\n",
        "params_cp.storage_hash_table = falconn.StorageHashTable.BitPackedFlatHashTable\n",
        "falconn.compute_number_of_hash_functions(14, params_cp)\n",
        "table = falconn.LSHIndex(params_cp)\n",
        "table.setup(dataset)\n",
        "query_object = table.construct_query_object()\n",
        "number_of_probes = number_of_tables"
      ],
      "execution_count": 0,
      "outputs": []
    },
    {
      "cell_type": "code",
      "metadata": {
        "id": "hMtQmVxGvgyv",
        "colab_type": "code",
        "colab": {}
      },
      "source": [
        "# counting the number of probes for analysis\n",
        "def evaluate_number_of_probes(number_of_probes):\n",
        "    query_object.set_num_probes(number_of_probes)\n",
        "    score = 0\n",
        "    for (i, query) in enumerate(queries):\n",
        "        if answers[i] in query_object.get_candidates_with_duplicates(\n",
        "                query):\n",
        "            score += 1\n",
        "    return float(score) / len(queries)"
      ],
      "execution_count": 0,
      "outputs": []
    },
    {
      "cell_type": "code",
      "metadata": {
        "id": "ZXdxmgwtyGm9",
        "colab_type": "code",
        "colab": {}
      },
      "source": [
        "# running binary search for the probes\n",
        "while True:\n",
        "    accuracy = evaluate_number_of_probes(number_of_probes)\n",
        "    print('{} -> {}'.format(number_of_probes, accuracy))\n",
        "    if accuracy >= 0.9:\n",
        "        break\n",
        "    number_of_probes = number_of_probes * 2\n",
        "if number_of_probes > number_of_tables:\n",
        "    left = number_of_probes // 2\n",
        "    right = number_of_probes\n",
        "    while right - left > 1:\n",
        "        number_of_probes = (left + right) // 2\n",
        "        accuracy = evaluate_number_of_probes(number_of_probes)\n",
        "        print('{} -> {}'.format(number_of_probes, accuracy))\n",
        "        if accuracy >= 0.9:\n",
        "            right = number_of_probes\n",
        "        else:\n",
        "            left = number_of_probes\n",
        "    number_of_probes = right\n",
        "print('Done')\n",
        "print('{} probes'.format(number_of_probes))"
      ],
      "execution_count": 0,
      "outputs": []
    },
    {
      "cell_type": "code",
      "metadata": {
        "id": "lNVRx3xjyKJb",
        "colab_type": "code",
        "colab": {}
      },
      "source": [
        "score = 0\n",
        "for (i, query) in enumerate(queries):\n",
        "    if query_object.find_nearest_neighbor(query) == answers[i]:\n",
        "        score += 1\n",
        "print('Precision: {}'.format(float(score) / len(queries)))\n",
        "query_object.find_near_neighbors(query, 100)[:20]"
      ],
      "execution_count": 0,
      "outputs": []
    },
    {
      "cell_type": "markdown",
      "metadata": {
        "id": "PnLwiY-bwVS7",
        "colab_type": "text"
      },
      "source": [
        "Although we see some differences from our analysis, the most notable change was the change in the speed. We look forward to exploring this more."
      ]
    }
  ]
}